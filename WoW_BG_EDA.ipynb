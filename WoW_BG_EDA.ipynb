{
 "cells": [
  {
   "cell_type": "markdown",
   "id": "c94cde7c",
   "metadata": {},
   "source": [
    "## Исследователский анализ данных Полей сражений в игре World of Warcraft"
   ]
  },
  {
   "cell_type": "markdown",
   "id": "64b3f5fe",
   "metadata": {},
   "source": [
    "World of Warcraft — это MMORPG (массовая многопользовательская ролевая онлайн-игра), созданная Blizzard.\n",
    "\n",
    "Поля сражений - Поля сражений — это сценарии, в которых две играбельные фракции игры (Орда и Альянс) сражаются друг с другом за победу. Некоторые из них захватывают флаг, другие берут контрольные точки, некоторые из них получают ресурсы, а некоторые из них представляют собой смесь нескольких тем. Играть на полях сражений очень весело, но вы получите в игре валюту под названием «Честь», которую можно обменять на мощное снаряжение наших персонажей.\n",
    "\n",
    "\n",
    "Исследование будет решать следующие задачи:\n",
    "- найти самый смертоносный класс и какой класс умирает чаще всего\n",
    "- какая фракция выигрывает больше сценариев\n",
    "- определить лидирующий класс по нанесенному урону и лечению\n",
    "- найти лучшие комбинации классов для победы\n",
    "\n",
    "Проверка гипотез:\n",
    "\n",
    "1) Игроки в роле \"хил\" и в роле \"дд\" в среднем получают одинаковое количесво очков \"чести\" <br>\n",
    "2) В среднем Орда побеждает чаще Альянса <br>\n",
    "\n",
    "\n",
    "\n",
    "__Описание набора данных:__\n",
    "\n",
    "   - `Code` : код поля боя.\n",
    "   - `Faction` : фракция игрока (Орда или Альянс).\n",
    "   - `Class` : класс игрока (воин, паладин, охотник, разбойник, жрец, рыцарь смерти, шаман, маг, чернокнижник, монах, друид, охотник на демонов).\n",
    "   - `KB`: количество смертельных убийств, сделанных игроком.\n",
    "   - `D`: количество раз, когда игрок умирал.\n",
    "   - `HK`: количество убийств, совершенных игроком или его/ее группой.\n",
    "   - `DD`: урон, нанесенный игроком.\n",
    "   - `HD`: лечение, выполняемое игроком.\n",
    "   - `Honor`: честь, присуждаемая игроку.\n",
    "   - `Win`: 1, если игрок выиграл.\n",
    "   - `Lose`: 1, если игрок проиграл.\n",
    "   - `Rol` : DPS, если игрок наносит урон; HEAL, если игрок сосредоточен на лечении союзников. (Обратите внимание, что не все классы могут быть целителями, только шаман, паладин, жрец, монах и друид, но все классы могут наносить урон.)\n",
    "   - `BE`: в некоторые недели есть бонусное событие, когда увеличивается получаемая честь. 1, если поле боя произошло на этой неделе.\n",
    "    \n",
    "Столбец `Code`:\n",
    "\n",
    "   - AB: Низина Арати\n",
    "   - BG: Битва за Гилнеас\n",
    "   - DG: Каньон суровых ветров\n",
    "   - ES: Око Бури\n",
    "   - SA: Берег Древних\n",
    "   - SM: Сверкающие копи\n",
    "   - SS: Бурлящий берег\n",
    "   - TK: Храм Котмогу\n",
    "   - TP: Два Пика\n",
    "   - WG: Ущелье Песни Войны\n",
    "\n",
    "\n",
    "В исследовании испозьзуется набор данных с [Kaggle](https://www.kaggle.com/datasets/cblesa/world-of-warcraft-battlegrounds?select=wowbgs.csv)"
   ]
  },
  {
   "cell_type": "code",
   "execution_count": 31,
   "id": "c0a1b97b",
   "metadata": {},
   "outputs": [],
   "source": [
    "import pandas as pd\n",
    "import scipy.stats as sts\n",
    "import matplotlib.pyplot as plt\n",
    "import seaborn as sns\n",
    "import numpy as np\n",
    "from statsmodels.stats.power import TTestIndPower\n",
    "%config InlineBackend.figure_format = 'retina'"
   ]
  },
  {
   "cell_type": "code",
   "execution_count": 2,
   "id": "169e4959",
   "metadata": {},
   "outputs": [],
   "source": [
    "df = pd.read_csv('wowbgs2.csv')"
   ]
  },
  {
   "cell_type": "code",
   "execution_count": 3,
   "id": "2174d5fe",
   "metadata": {},
   "outputs": [
    {
     "data": {
      "text/html": [
       "<div>\n",
       "<style scoped>\n",
       "    .dataframe tbody tr th:only-of-type {\n",
       "        vertical-align: middle;\n",
       "    }\n",
       "\n",
       "    .dataframe tbody tr th {\n",
       "        vertical-align: top;\n",
       "    }\n",
       "\n",
       "    .dataframe thead th {\n",
       "        text-align: right;\n",
       "    }\n",
       "</style>\n",
       "<table border=\"1\" class=\"dataframe\">\n",
       "  <thead>\n",
       "    <tr style=\"text-align: right;\">\n",
       "      <th></th>\n",
       "      <th>Battleground</th>\n",
       "      <th>Code</th>\n",
       "      <th>Faction</th>\n",
       "      <th>Class</th>\n",
       "      <th>KB</th>\n",
       "      <th>D</th>\n",
       "      <th>HK</th>\n",
       "      <th>DD</th>\n",
       "      <th>HD</th>\n",
       "      <th>Honor</th>\n",
       "      <th>Win</th>\n",
       "      <th>Lose</th>\n",
       "      <th>Rol</th>\n",
       "      <th>BE</th>\n",
       "    </tr>\n",
       "  </thead>\n",
       "  <tbody>\n",
       "    <tr>\n",
       "      <th>0</th>\n",
       "      <td>WG</td>\n",
       "      <td>WG1</td>\n",
       "      <td>Horde</td>\n",
       "      <td>Hunter</td>\n",
       "      <td>1</td>\n",
       "      <td>3</td>\n",
       "      <td>14</td>\n",
       "      <td>48155</td>\n",
       "      <td>6641</td>\n",
       "      <td>532</td>\n",
       "      <td>1.0</td>\n",
       "      <td>NaN</td>\n",
       "      <td>dps</td>\n",
       "      <td>NaN</td>\n",
       "    </tr>\n",
       "    <tr>\n",
       "      <th>1</th>\n",
       "      <td>WG</td>\n",
       "      <td>WG1</td>\n",
       "      <td>Horde</td>\n",
       "      <td>Death Knight</td>\n",
       "      <td>1</td>\n",
       "      <td>3</td>\n",
       "      <td>12</td>\n",
       "      <td>27025</td>\n",
       "      <td>7106</td>\n",
       "      <td>377</td>\n",
       "      <td>1.0</td>\n",
       "      <td>NaN</td>\n",
       "      <td>dps</td>\n",
       "      <td>NaN</td>\n",
       "    </tr>\n",
       "    <tr>\n",
       "      <th>2</th>\n",
       "      <td>WG</td>\n",
       "      <td>WG1</td>\n",
       "      <td>Alliance</td>\n",
       "      <td>Paladin</td>\n",
       "      <td>0</td>\n",
       "      <td>1</td>\n",
       "      <td>19</td>\n",
       "      <td>824</td>\n",
       "      <td>93879</td>\n",
       "      <td>252</td>\n",
       "      <td>NaN</td>\n",
       "      <td>1.0</td>\n",
       "      <td>heal</td>\n",
       "      <td>NaN</td>\n",
       "    </tr>\n",
       "    <tr>\n",
       "      <th>3</th>\n",
       "      <td>WG</td>\n",
       "      <td>WG1</td>\n",
       "      <td>Alliance</td>\n",
       "      <td>Paladin</td>\n",
       "      <td>1</td>\n",
       "      <td>2</td>\n",
       "      <td>25</td>\n",
       "      <td>7046</td>\n",
       "      <td>98599</td>\n",
       "      <td>274</td>\n",
       "      <td>NaN</td>\n",
       "      <td>1.0</td>\n",
       "      <td>heal</td>\n",
       "      <td>NaN</td>\n",
       "    </tr>\n",
       "    <tr>\n",
       "      <th>4</th>\n",
       "      <td>WG</td>\n",
       "      <td>WG1</td>\n",
       "      <td>Alliance</td>\n",
       "      <td>Rogue</td>\n",
       "      <td>2</td>\n",
       "      <td>3</td>\n",
       "      <td>23</td>\n",
       "      <td>65483</td>\n",
       "      <td>19629</td>\n",
       "      <td>268</td>\n",
       "      <td>NaN</td>\n",
       "      <td>1.0</td>\n",
       "      <td>dps</td>\n",
       "      <td>NaN</td>\n",
       "    </tr>\n",
       "  </tbody>\n",
       "</table>\n",
       "</div>"
      ],
      "text/plain": [
       "  Battleground Code   Faction         Class  KB  D  HK     DD     HD  Honor  \\\n",
       "0           WG  WG1     Horde        Hunter   1  3  14  48155   6641    532   \n",
       "1           WG  WG1     Horde  Death Knight   1  3  12  27025   7106    377   \n",
       "2           WG  WG1  Alliance       Paladin   0  1  19    824  93879    252   \n",
       "3           WG  WG1  Alliance       Paladin   1  2  25   7046  98599    274   \n",
       "4           WG  WG1  Alliance         Rogue   2  3  23  65483  19629    268   \n",
       "\n",
       "   Win  Lose   Rol  BE  \n",
       "0  1.0   NaN   dps NaN  \n",
       "1  1.0   NaN   dps NaN  \n",
       "2  NaN   1.0  heal NaN  \n",
       "3  NaN   1.0  heal NaN  \n",
       "4  NaN   1.0   dps NaN  "
      ]
     },
     "execution_count": 3,
     "metadata": {},
     "output_type": "execute_result"
    }
   ],
   "source": [
    "df.head()"
   ]
  },
  {
   "cell_type": "code",
   "execution_count": 4,
   "id": "12536188",
   "metadata": {},
   "outputs": [
    {
     "name": "stdout",
     "output_type": "stream",
     "text": [
      "<class 'pandas.core.frame.DataFrame'>\n",
      "RangeIndex: 5383 entries, 0 to 5382\n",
      "Data columns (total 14 columns):\n",
      " #   Column        Non-Null Count  Dtype  \n",
      "---  ------        --------------  -----  \n",
      " 0   Battleground  5383 non-null   object \n",
      " 1   Code          5383 non-null   object \n",
      " 2   Faction       5383 non-null   object \n",
      " 3   Class         5383 non-null   object \n",
      " 4   KB            5383 non-null   int64  \n",
      " 5   D             5383 non-null   int64  \n",
      " 6   HK            5383 non-null   int64  \n",
      " 7   DD            5383 non-null   int64  \n",
      " 8   HD            5383 non-null   int64  \n",
      " 9   Honor         5383 non-null   int64  \n",
      " 10  Win           2723 non-null   float64\n",
      " 11  Lose          2660 non-null   float64\n",
      " 12  Rol           5383 non-null   object \n",
      " 13  BE            954 non-null    float64\n",
      "dtypes: float64(3), int64(6), object(5)\n",
      "memory usage: 588.9+ KB\n"
     ]
    }
   ],
   "source": [
    "df.info()"
   ]
  },
  {
   "cell_type": "code",
   "execution_count": 5,
   "id": "0f0fbc13",
   "metadata": {},
   "outputs": [
    {
     "data": {
      "text/plain": [
       "Battleground       0\n",
       "Code               0\n",
       "Faction            0\n",
       "Class              0\n",
       "KB                 0\n",
       "D                  0\n",
       "HK                 0\n",
       "DD                 0\n",
       "HD                 0\n",
       "Honor              0\n",
       "Win             2660\n",
       "Lose            2723\n",
       "Rol                0\n",
       "BE              4429\n",
       "dtype: int64"
      ]
     },
     "execution_count": 5,
     "metadata": {},
     "output_type": "execute_result"
    }
   ],
   "source": [
    "df.isna().sum()"
   ]
  },
  {
   "cell_type": "code",
   "execution_count": 6,
   "id": "801a6d98",
   "metadata": {},
   "outputs": [],
   "source": [
    "df.drop('Lose',axis=1,inplace=True)\n",
    "df['Win'].fillna(0,inplace=True)\n",
    "df['BE'].fillna(0,inplace=True)"
   ]
  },
  {
   "cell_type": "code",
   "execution_count": 7,
   "id": "847c9df8",
   "metadata": {},
   "outputs": [
    {
     "data": {
      "text/plain": [
       "Battleground    0\n",
       "Code            0\n",
       "Faction         0\n",
       "Class           0\n",
       "KB              0\n",
       "D               0\n",
       "HK              0\n",
       "DD              0\n",
       "HD              0\n",
       "Honor           0\n",
       "Win             0\n",
       "Rol             0\n",
       "BE              0\n",
       "dtype: int64"
      ]
     },
     "execution_count": 7,
     "metadata": {},
     "output_type": "execute_result"
    }
   ],
   "source": [
    "df.isna().sum()"
   ]
  },
  {
   "cell_type": "markdown",
   "id": "951c7a3b",
   "metadata": {},
   "source": [
    "Для более полной картины можно создать несколько дополнительных признаков таких как: \n",
    "- `Addon` - дополнение\n",
    "- `Classic_Class` - класс из пре-ВКЛ или нет (классы Рыцарь смерти, Охотник на демонов и монах повились позже)\n",
    "- `Class_Type` - тип класса (m - melee(ближний бой), r-ranged(дальний бой), или b-both(оба))\n",
    "- `Armor_Type` - тип брони класса (cloth - ткань, leather - кожа, mail - кольчуга, plate - латы)\n",
    "- `Pets`  - владет ли класс боевым петомцем"
   ]
  },
  {
   "cell_type": "code",
   "execution_count": 8,
   "id": "9f140558",
   "metadata": {},
   "outputs": [],
   "source": [
    "df['Addon'] = ['Classic' if bg in ['WG','AB']\n",
    "                                else 'WotLK' if bg in ['SA']\n",
    "                                else 'Cataclysm' if bg in ['TP','BG']\n",
    "                                else 'MoP' if bg in ['DG','SM','TK']\n",
    "                                else 'Legion'\n",
    "                                for bg in df['Battleground']]\n",
    "\n",
    "df['Classic_Class'] = [0 if clss in ['Death Knight','Demon Hunter','Monk']\n",
    "                      else 1 for clss in df['Class']]\n",
    "\n",
    "df['Class_Type'] = ['Melee' if clss in ['Warrior','Demon Hunter','Death Knight','Rogue']\n",
    "             else'Ranged' if clss in ['Mage','Warlock','Priest']\n",
    "             else 'Both' for clss in df['Class']]\n",
    "\n",
    "df['Armor_Type'] = ['Cloth' if clss in ['Mage','Warlock','Priest']\n",
    "                   else 'Leather' if clss in ['Rogue','Druid','Monk','Demon Hunter']\n",
    "                   else 'Mail' if clss in ['Hunter','Shaman']\n",
    "                   else 'Plate' for clss in df['Class']]\n",
    "\n",
    "df['Pets'] = [1 if clss in ['Hunter','Warlock','Death Knight']\n",
    "             else 0 for clss in df['Class']]"
   ]
  },
  {
   "cell_type": "code",
   "execution_count": 9,
   "id": "5701ef8b",
   "metadata": {},
   "outputs": [
    {
     "data": {
      "text/html": [
       "<div>\n",
       "<style scoped>\n",
       "    .dataframe tbody tr th:only-of-type {\n",
       "        vertical-align: middle;\n",
       "    }\n",
       "\n",
       "    .dataframe tbody tr th {\n",
       "        vertical-align: top;\n",
       "    }\n",
       "\n",
       "    .dataframe thead th {\n",
       "        text-align: right;\n",
       "    }\n",
       "</style>\n",
       "<table border=\"1\" class=\"dataframe\">\n",
       "  <thead>\n",
       "    <tr style=\"text-align: right;\">\n",
       "      <th></th>\n",
       "      <th>Battleground</th>\n",
       "      <th>Code</th>\n",
       "      <th>Faction</th>\n",
       "      <th>Class</th>\n",
       "      <th>KB</th>\n",
       "      <th>D</th>\n",
       "      <th>HK</th>\n",
       "      <th>DD</th>\n",
       "      <th>HD</th>\n",
       "      <th>Honor</th>\n",
       "      <th>Win</th>\n",
       "      <th>Rol</th>\n",
       "      <th>BE</th>\n",
       "      <th>Addon</th>\n",
       "      <th>Classic_Class</th>\n",
       "      <th>Class_Type</th>\n",
       "      <th>Armor_Type</th>\n",
       "      <th>Pets</th>\n",
       "    </tr>\n",
       "  </thead>\n",
       "  <tbody>\n",
       "    <tr>\n",
       "      <th>400</th>\n",
       "      <td>BG</td>\n",
       "      <td>BG4</td>\n",
       "      <td>Horde</td>\n",
       "      <td>Mage</td>\n",
       "      <td>3</td>\n",
       "      <td>2</td>\n",
       "      <td>5</td>\n",
       "      <td>16626</td>\n",
       "      <td>3718</td>\n",
       "      <td>126</td>\n",
       "      <td>0.0</td>\n",
       "      <td>dps</td>\n",
       "      <td>0.0</td>\n",
       "      <td>Cataclysm</td>\n",
       "      <td>1</td>\n",
       "      <td>Ranged</td>\n",
       "      <td>Cloth</td>\n",
       "      <td>0</td>\n",
       "    </tr>\n",
       "    <tr>\n",
       "      <th>1948</th>\n",
       "      <td>WG</td>\n",
       "      <td>WG24</td>\n",
       "      <td>Alliance</td>\n",
       "      <td>Warrior</td>\n",
       "      <td>8</td>\n",
       "      <td>2</td>\n",
       "      <td>29</td>\n",
       "      <td>102000</td>\n",
       "      <td>23384</td>\n",
       "      <td>779</td>\n",
       "      <td>1.0</td>\n",
       "      <td>dps</td>\n",
       "      <td>0.0</td>\n",
       "      <td>Classic</td>\n",
       "      <td>1</td>\n",
       "      <td>Melee</td>\n",
       "      <td>Plate</td>\n",
       "      <td>0</td>\n",
       "    </tr>\n",
       "    <tr>\n",
       "      <th>4121</th>\n",
       "      <td>TK</td>\n",
       "      <td>TK27</td>\n",
       "      <td>Horde</td>\n",
       "      <td>Demon Hunter</td>\n",
       "      <td>0</td>\n",
       "      <td>3</td>\n",
       "      <td>1</td>\n",
       "      <td>8578</td>\n",
       "      <td>3794</td>\n",
       "      <td>97</td>\n",
       "      <td>0.0</td>\n",
       "      <td>dps</td>\n",
       "      <td>0.0</td>\n",
       "      <td>MoP</td>\n",
       "      <td>0</td>\n",
       "      <td>Melee</td>\n",
       "      <td>Leather</td>\n",
       "      <td>0</td>\n",
       "    </tr>\n",
       "    <tr>\n",
       "      <th>33</th>\n",
       "      <td>WG</td>\n",
       "      <td>WG2</td>\n",
       "      <td>Alliance</td>\n",
       "      <td>Rogue</td>\n",
       "      <td>2</td>\n",
       "      <td>1</td>\n",
       "      <td>18</td>\n",
       "      <td>21731</td>\n",
       "      <td>5777</td>\n",
       "      <td>528</td>\n",
       "      <td>1.0</td>\n",
       "      <td>dps</td>\n",
       "      <td>0.0</td>\n",
       "      <td>Classic</td>\n",
       "      <td>1</td>\n",
       "      <td>Melee</td>\n",
       "      <td>Leather</td>\n",
       "      <td>0</td>\n",
       "    </tr>\n",
       "    <tr>\n",
       "      <th>1999</th>\n",
       "      <td>AB</td>\n",
       "      <td>AB4</td>\n",
       "      <td>Alliance</td>\n",
       "      <td>Demon Hunter</td>\n",
       "      <td>9</td>\n",
       "      <td>3</td>\n",
       "      <td>38</td>\n",
       "      <td>91509</td>\n",
       "      <td>13007</td>\n",
       "      <td>825</td>\n",
       "      <td>1.0</td>\n",
       "      <td>dps</td>\n",
       "      <td>0.0</td>\n",
       "      <td>Classic</td>\n",
       "      <td>0</td>\n",
       "      <td>Melee</td>\n",
       "      <td>Leather</td>\n",
       "      <td>0</td>\n",
       "    </tr>\n",
       "  </tbody>\n",
       "</table>\n",
       "</div>"
      ],
      "text/plain": [
       "     Battleground  Code   Faction         Class  KB  D  HK      DD     HD  \\\n",
       "400            BG   BG4     Horde          Mage   3  2   5   16626   3718   \n",
       "1948           WG  WG24  Alliance       Warrior   8  2  29  102000  23384   \n",
       "4121           TK  TK27     Horde  Demon Hunter   0  3   1    8578   3794   \n",
       "33             WG   WG2  Alliance         Rogue   2  1  18   21731   5777   \n",
       "1999           AB   AB4  Alliance  Demon Hunter   9  3  38   91509  13007   \n",
       "\n",
       "      Honor  Win  Rol   BE      Addon  Classic_Class Class_Type Armor_Type  \\\n",
       "400     126  0.0  dps  0.0  Cataclysm              1     Ranged      Cloth   \n",
       "1948    779  1.0  dps  0.0    Classic              1      Melee      Plate   \n",
       "4121     97  0.0  dps  0.0        MoP              0      Melee    Leather   \n",
       "33      528  1.0  dps  0.0    Classic              1      Melee    Leather   \n",
       "1999    825  1.0  dps  0.0    Classic              0      Melee    Leather   \n",
       "\n",
       "      Pets  \n",
       "400      0  \n",
       "1948     0  \n",
       "4121     0  \n",
       "33       0  \n",
       "1999     0  "
      ]
     },
     "execution_count": 9,
     "metadata": {},
     "output_type": "execute_result"
    }
   ],
   "source": [
    "df.sample(5)"
   ]
  },
  {
   "cell_type": "code",
   "execution_count": 10,
   "id": "3a9949ed",
   "metadata": {},
   "outputs": [],
   "source": [
    "df_heal =  df[df['Rol'] == 'heal']\n",
    "heal = np.array(df_heal['Honor'])"
   ]
  },
  {
   "cell_type": "code",
   "execution_count": 11,
   "id": "a38f9fa1",
   "metadata": {},
   "outputs": [],
   "source": [
    "df_dd = df[df['Rol'] == 'dps']\n",
    "dd = np.array(df_dd['Honor'])"
   ]
  },
  {
   "cell_type": "code",
   "execution_count": 33,
   "id": "dd32ca85",
   "metadata": {},
   "outputs": [],
   "source": [
    "dd_2 = np.random.choice(dd, size=len(heal), replace=True)"
   ]
  },
  {
   "cell_type": "code",
   "execution_count": 28,
   "id": "84988430",
   "metadata": {},
   "outputs": [
    {
     "data": {
      "text/plain": [
       "-0.07"
      ]
     },
     "execution_count": 28,
     "metadata": {},
     "output_type": "execute_result"
    }
   ],
   "source": [
    "np.corrcoef(heal, dd_2)[0,1].round(2)"
   ]
  },
  {
   "cell_type": "code",
   "execution_count": 29,
   "id": "354c8a9c",
   "metadata": {},
   "outputs": [
    {
     "name": "stdout",
     "output_type": "stream",
     "text": [
      "корреляция пирсона: -0.07\n",
      "корреляция спирмана: -0.09\n",
      "корреляция кендала: -0.06\n"
     ]
    }
   ],
   "source": [
    "print('корреляция пирсона:',(sts.pearsonr(heal, dd_2)[0]).round(2))\n",
    "print('корреляция спирмана:',(sts.spearmanr(heal, dd_2)[0]).round(2))\n",
    "print('корреляция кендала:',(sts.kendalltau(heal, dd_2)[0]).round(2))"
   ]
  },
  {
   "cell_type": "code",
   "execution_count": 26,
   "id": "3ca044ff",
   "metadata": {},
   "outputs": [
    {
     "data": {
      "image/png": "[encoded data removed]",
      "text/plain": [
       "<Figure size 432x288 with 1 Axes>"
      ]
     },
     "execution_count": 26,
     "metadata": {},
     "output_type": "execute_result"
    },
    {
     "data": {
      "image/png": "[encoded data removed]",
      "text/plain": [
       "<Figure size 432x288 with 1 Axes>"
      ]
     },
     "metadata": {
      "needs_background": "light"
     },
     "output_type": "display_data"
    }
   ],
   "source": [
    "analysis = TTestIndPower()\n",
    "analysis.plot_power(dep_var='nobs', nobs=np.arange(5, len(heal)), effect_size=np.array([0.2, 0.5, 0.8]), alpha=0.05)"
   ]
  },
  {
   "cell_type": "markdown",
   "id": "98b728a5",
   "metadata": {},
   "source": [
    "Начнем проводить тесты\n",
    "\n",
    "Н0 Игроки в роле \"хил\" и в роле \"дд\" в среднем получают одинаковое количесво очков \"чести\"<br>\n",
    "На Игроки в роле \"хил\" и в роле \"дд\" в среднем получают не одинаковое количесво очков \"чести\""
   ]
  },
  {
   "cell_type": "code",
   "execution_count": 37,
   "id": "2035befe",
   "metadata": {},
   "outputs": [
    {
     "data": {
      "image/png": "[encoded data removed]",
      "text/plain": [
       "<Figure size 432x288 with 1 Axes>"
      ]
     },
     "metadata": {
      "image/png": {
       "height": 263,
       "width": 368
      },
      "needs_background": "light"
     },
     "output_type": "display_data"
    }
   ],
   "source": [
    "plt.hist(heal, bins = 50, alpha = 0.5, label = 'dps', color = 'red')\n",
    "plt.hist(dd_2, bins = 50, alpha = 0.5, label = 'heal', color = 'green')\n",
    "plt.legend(loc = 'right')\n",
    "plt.title('Распределение Чести')\n",
    "plt.show()"
   ]
  },
  {
   "cell_type": "code",
   "execution_count": 17,
   "id": "801e47aa",
   "metadata": {},
   "outputs": [
    {
     "data": {
      "text/plain": [
       "KstestResult(statistic=1.0, pvalue=0.0)"
      ]
     },
     "execution_count": 17,
     "metadata": {},
     "output_type": "execute_result"
    }
   ],
   "source": [
    "sts.kstest(heal, sts.norm.cdf)"
   ]
  },
  {
   "cell_type": "code",
   "execution_count": 18,
   "id": "0bb9cfee",
   "metadata": {},
   "outputs": [
    {
     "data": {
      "text/plain": [
       "Ttest_indResult(statistic=0.6452656253112207, pvalue=0.5188246924481718)"
      ]
     },
     "execution_count": 18,
     "metadata": {},
     "output_type": "execute_result"
    }
   ],
   "source": [
    "sts.ttest_ind(heal, dd_2)"
   ]
  },
  {
   "cell_type": "code",
   "execution_count": 22,
   "id": "90188e97",
   "metadata": {},
   "outputs": [
    {
     "data": {
      "text/plain": [
       "WilcoxonResult(statistic=275064.0, pvalue=0.4421972403089477)"
      ]
     },
     "execution_count": 22,
     "metadata": {},
     "output_type": "execute_result"
    }
   ],
   "source": [
    "sts.wilcoxon(heal, dd_2)"
   ]
  },
  {
   "cell_type": "code",
   "execution_count": 38,
   "id": "749d5259",
   "metadata": {},
   "outputs": [
    {
     "data": {
      "text/plain": [
       "1000"
      ]
     },
     "execution_count": 38,
     "metadata": {},
     "output_type": "execute_result"
    }
   ],
   "source": [
    "samples = [np.random.choice(heal, size=100) for _ in range(1000)]\n",
    "len(samples)"
   ]
  },
  {
   "cell_type": "code",
   "execution_count": 41,
   "id": "713f5d95",
   "metadata": {},
   "outputs": [
    {
     "data": {
      "text/plain": [
       "<matplotlib.legend.Legend at 0x1f244aac670>"
      ]
     },
     "execution_count": 41,
     "metadata": {},
     "output_type": "execute_result"
    },
    {
     "data": {
      "image/png": "[encoded data removed]",
      "text/plain": [
       "<Figure size 432x288 with 1 Axes>"
      ]
     },
     "metadata": {
      "image/png": {
       "height": 248,
       "width": 377
      },
      "needs_background": "light"
     },
     "output_type": "display_data"
    }
   ],
   "source": [
    "samples_mean = [i.mean() for i in samples]\n",
    "plt.hist(samples_mean, bins=20)[-1]\n",
    "plt.axvline(heal.mean(), c='red', label=f'Среднее ген. совокупности: {heal.mean()}')\n",
    "plt.legend()"
   ]
  },
  {
   "cell_type": "code",
   "execution_count": 50,
   "id": "c4f60c58",
   "metadata": {},
   "outputs": [
    {
     "name": "stdout",
     "output_type": "stream",
     "text": [
      "Доверительный интервал для вероятности 90%: [378.983, 447.28799999999995]\n",
      "Доверительный интервал для вероятности 95%: [368.5324, 453.8608]\n",
      "Доверительный интервал для вероятности 99%: [335.63, 464.96779999999995]\n"
     ]
    }
   ],
   "source": [
    "P90 = 90\n",
    "\n",
    "left = np.percentile(samples_mean, (100 - P90) // 2)\n",
    "right = np.percentile(samples_mean, P90 + (100 - P90) // 2)\n",
    "print(f'Доверительный интервал для вероятности {P90}%: [{left}, {right}]')\n",
    "\n",
    "P95 = 95\n",
    "\n",
    "left = np.percentile(samples_mean, (100 - P95) // 2)\n",
    "right = np.percentile(samples_mean, P95 + (100 - P95) // 2)\n",
    "print(f'Доверительный интервал для вероятности {P95}%: [{left}, {right}]')\n",
    "\n",
    "P99 = 99\n",
    "\n",
    "left = np.percentile(samples_mean, (100 - P99) // 2)\n",
    "right = np.percentile(samples_mean, P99 + (100 - P99) // 2)\n",
    "print(f'Доверительный интервал для вероятности {P99}%: [{left}, {right}]')"
   ]
  },
  {
   "cell_type": "code",
   "execution_count": 43,
   "id": "c6105798",
   "metadata": {},
   "outputs": [
    {
     "data": {
      "text/plain": [
       "1000"
      ]
     },
     "execution_count": 43,
     "metadata": {},
     "output_type": "execute_result"
    }
   ],
   "source": [
    "samples = [np.random.choice(dd, size=100) for _ in range(1000)]\n",
    "len(samples)"
   ]
  },
  {
   "cell_type": "code",
   "execution_count": 45,
   "id": "3257e7f7",
   "metadata": {},
   "outputs": [
    {
     "data": {
      "text/plain": [
       "<matplotlib.legend.Legend at 0x1f2449b1520>"
      ]
     },
     "execution_count": 45,
     "metadata": {},
     "output_type": "execute_result"
    },
    {
     "data": {
      "image/png": "[encoded data removed]",
      "text/plain": [
       "<Figure size 432x288 with 1 Axes>"
      ]
     },
     "metadata": {
      "image/png": {
       "height": 248,
       "width": 383
      },
      "needs_background": "light"
     },
     "output_type": "display_data"
    }
   ],
   "source": [
    "samples_mean = [i.mean() for i in samples]\n",
    "plt.hist(samples_mean, bins=20)[-1]\n",
    "plt.axvline(dd.mean(), c='red', label=f'Среднее ген. совокупности: {heal.mean()}')\n",
    "plt.legend()"
   ]
  },
  {
   "cell_type": "code",
   "execution_count": 51,
   "id": "1e53930f",
   "metadata": {},
   "outputs": [
    {
     "name": "stdout",
     "output_type": "stream",
     "text": [
      "Доверительный интервал для вероятности 90%: [378.983, 447.28799999999995]\n",
      "Доверительный интервал для вероятности 95%: [368.5324, 453.8608]\n",
      "Доверительный интервал для вероятности 99%: [335.63, 464.96779999999995]\n"
     ]
    }
   ],
   "source": [
    "P90 = 90\n",
    "\n",
    "left = np.percentile(samples_mean, (100 - P90) // 2)\n",
    "right = np.percentile(samples_mean, P90 + (100 - P90) // 2)\n",
    "print(f'Доверительный интервал для вероятности {P90}%: [{left}, {right}]')\n",
    "\n",
    "P95 = 95\n",
    "\n",
    "left = np.percentile(samples_mean, (100 - P95) // 2)\n",
    "right = np.percentile(samples_mean, P95 + (100 - P95) // 2)\n",
    "print(f'Доверительный интервал для вероятности {P95}%: [{left}, {right}]')\n",
    "\n",
    "P99 = 99\n",
    "\n",
    "left = np.percentile(samples_mean, (100 - P99) // 2)\n",
    "right = np.percentile(samples_mean, P99 + (100 - P99) // 2)\n",
    "print(f'Доверительный интервал для вероятности {P99}%: [{left}, {right}]')"
   ]
  },
  {
   "cell_type": "code",
   "execution_count": null,
   "id": "4b8adfae",
   "metadata": {},
   "outputs": [],
   "source": []
  }
 ],
 "metadata": {
  "kernelspec": {
   "display_name": "Python 3 (ipykernel)",
   "language": "python",
   "name": "python3"
  },
  "language_info": {
   "codemirror_mode": {
    "name": "ipython",
    "version": 3
   },
   "file_extension": ".py",
   "mimetype": "text/x-python",
   "name": "python",
   "nbconvert_exporter": "python",
   "pygments_lexer": "ipython3",
   "version": "3.9.12"
  }
 },
 "nbformat": 4,
 "nbformat_minor": 5
}
